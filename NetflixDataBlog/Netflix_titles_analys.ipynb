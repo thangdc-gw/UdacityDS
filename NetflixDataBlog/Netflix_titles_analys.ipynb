{
 "cells": [
  {
   "cell_type": "markdown",
   "metadata": {},
   "source": [
    "# Netflix Movies and TV Shows\n",
    "\n",
    "## Purpose\n",
    "In this notebook, I apply the CRISP-DM process on the Netflix titles data. This dataset could be founded  in the Kaggle Dataset [Netflix Movies and TV Shows](https://www.kaggle.com/datasets/shivamb/netflix-shows?datasetId=434238).\n",
    "\n",
    "***About this Dataset***: Netflix is one of the most popular media and video streaming platforms. They have over 8000 movies or tv shows available on their platform, as of mid-2021, they have over 200M Subscribers globally. This tabular dataset consists of listings of all the movies and tv shows available on Netflix, along with details such as - cast, directors, ratings, release year, duration, etc.\n",
    "\n",
    "It's very cool that we have the data. I'm a bit fan of movies and TV shows as well. So we will dig into it and find out more interesting information.\n",
    "\n",
    "I try to find the answers to these questions:\n",
    "\n",
    "* What are the oldest movies/TV Shows on Netflix? (Given 5)\n",
    "\n",
    "* Top 10 countries where most of TV Shows/Movies produced?\n",
    "\n",
    "* How many movies that \"Cameron Diaz\" acted in?\n",
    "* Trending of content (Movies/TV Shows) produced from 2005 until 2021 on Netflix\n",
    "\n"
   ]
  },
  {
   "cell_type": "markdown",
   "metadata": {},
   "source": [
    "## Import Libraries  "
   ]
  },
  {
   "cell_type": "code",
   "execution_count": 2,
   "metadata": {},
   "outputs": [],
   "source": [
    "import numpy as np \n",
    "import pandas as pd\n",
    "import seaborn as sns\n",
    "import matplotlib.pyplot as plt"
   ]
  },
  {
   "cell_type": "markdown",
   "metadata": {},
   "source": [
    "## Data Preprocesing "
   ]
  },
  {
   "cell_type": "code",
   "execution_count": 3,
   "metadata": {},
   "outputs": [
    {
     "data": {
      "text/html": [
       "<div>\n",
       "<style scoped>\n",
       "    .dataframe tbody tr th:only-of-type {\n",
       "        vertical-align: middle;\n",
       "    }\n",
       "\n",
       "    .dataframe tbody tr th {\n",
       "        vertical-align: top;\n",
       "    }\n",
       "\n",
       "    .dataframe thead th {\n",
       "        text-align: right;\n",
       "    }\n",
       "</style>\n",
       "<table border=\"1\" class=\"dataframe\">\n",
       "  <thead>\n",
       "    <tr style=\"text-align: right;\">\n",
       "      <th></th>\n",
       "      <th>show_id</th>\n",
       "      <th>type</th>\n",
       "      <th>title</th>\n",
       "      <th>director</th>\n",
       "      <th>cast</th>\n",
       "      <th>country</th>\n",
       "      <th>date_added</th>\n",
       "      <th>release_year</th>\n",
       "      <th>rating</th>\n",
       "      <th>duration</th>\n",
       "      <th>listed_in</th>\n",
       "      <th>description</th>\n",
       "    </tr>\n",
       "  </thead>\n",
       "  <tbody>\n",
       "    <tr>\n",
       "      <th>0</th>\n",
       "      <td>s1</td>\n",
       "      <td>Movie</td>\n",
       "      <td>Dick Johnson Is Dead</td>\n",
       "      <td>Kirsten Johnson</td>\n",
       "      <td>NaN</td>\n",
       "      <td>United States</td>\n",
       "      <td>September 25, 2021</td>\n",
       "      <td>2020</td>\n",
       "      <td>PG-13</td>\n",
       "      <td>90 min</td>\n",
       "      <td>Documentaries</td>\n",
       "      <td>As her father nears the end of his life, filmm...</td>\n",
       "    </tr>\n",
       "    <tr>\n",
       "      <th>1</th>\n",
       "      <td>s2</td>\n",
       "      <td>TV Show</td>\n",
       "      <td>Blood &amp; Water</td>\n",
       "      <td>NaN</td>\n",
       "      <td>Ama Qamata, Khosi Ngema, Gail Mabalane, Thaban...</td>\n",
       "      <td>South Africa</td>\n",
       "      <td>September 24, 2021</td>\n",
       "      <td>2021</td>\n",
       "      <td>TV-MA</td>\n",
       "      <td>2 Seasons</td>\n",
       "      <td>International TV Shows, TV Dramas, TV Mysteries</td>\n",
       "      <td>After crossing paths at a party, a Cape Town t...</td>\n",
       "    </tr>\n",
       "    <tr>\n",
       "      <th>2</th>\n",
       "      <td>s3</td>\n",
       "      <td>TV Show</td>\n",
       "      <td>Ganglands</td>\n",
       "      <td>Julien Leclercq</td>\n",
       "      <td>Sami Bouajila, Tracy Gotoas, Samuel Jouy, Nabi...</td>\n",
       "      <td>NaN</td>\n",
       "      <td>September 24, 2021</td>\n",
       "      <td>2021</td>\n",
       "      <td>TV-MA</td>\n",
       "      <td>1 Season</td>\n",
       "      <td>Crime TV Shows, International TV Shows, TV Act...</td>\n",
       "      <td>To protect his family from a powerful drug lor...</td>\n",
       "    </tr>\n",
       "    <tr>\n",
       "      <th>3</th>\n",
       "      <td>s4</td>\n",
       "      <td>TV Show</td>\n",
       "      <td>Jailbirds New Orleans</td>\n",
       "      <td>NaN</td>\n",
       "      <td>NaN</td>\n",
       "      <td>NaN</td>\n",
       "      <td>September 24, 2021</td>\n",
       "      <td>2021</td>\n",
       "      <td>TV-MA</td>\n",
       "      <td>1 Season</td>\n",
       "      <td>Docuseries, Reality TV</td>\n",
       "      <td>Feuds, flirtations and toilet talk go down amo...</td>\n",
       "    </tr>\n",
       "    <tr>\n",
       "      <th>4</th>\n",
       "      <td>s5</td>\n",
       "      <td>TV Show</td>\n",
       "      <td>Kota Factory</td>\n",
       "      <td>NaN</td>\n",
       "      <td>Mayur More, Jitendra Kumar, Ranjan Raj, Alam K...</td>\n",
       "      <td>India</td>\n",
       "      <td>September 24, 2021</td>\n",
       "      <td>2021</td>\n",
       "      <td>TV-MA</td>\n",
       "      <td>2 Seasons</td>\n",
       "      <td>International TV Shows, Romantic TV Shows, TV ...</td>\n",
       "      <td>In a city of coaching centers known to train I...</td>\n",
       "    </tr>\n",
       "  </tbody>\n",
       "</table>\n",
       "</div>"
      ],
      "text/plain": [
       "  show_id     type                  title         director  \\\n",
       "0      s1    Movie   Dick Johnson Is Dead  Kirsten Johnson   \n",
       "1      s2  TV Show          Blood & Water              NaN   \n",
       "2      s3  TV Show              Ganglands  Julien Leclercq   \n",
       "3      s4  TV Show  Jailbirds New Orleans              NaN   \n",
       "4      s5  TV Show           Kota Factory              NaN   \n",
       "\n",
       "                                                cast        country  \\\n",
       "0                                                NaN  United States   \n",
       "1  Ama Qamata, Khosi Ngema, Gail Mabalane, Thaban...   South Africa   \n",
       "2  Sami Bouajila, Tracy Gotoas, Samuel Jouy, Nabi...            NaN   \n",
       "3                                                NaN            NaN   \n",
       "4  Mayur More, Jitendra Kumar, Ranjan Raj, Alam K...          India   \n",
       "\n",
       "           date_added  release_year rating   duration  \\\n",
       "0  September 25, 2021          2020  PG-13     90 min   \n",
       "1  September 24, 2021          2021  TV-MA  2 Seasons   \n",
       "2  September 24, 2021          2021  TV-MA   1 Season   \n",
       "3  September 24, 2021          2021  TV-MA   1 Season   \n",
       "4  September 24, 2021          2021  TV-MA  2 Seasons   \n",
       "\n",
       "                                           listed_in  \\\n",
       "0                                      Documentaries   \n",
       "1    International TV Shows, TV Dramas, TV Mysteries   \n",
       "2  Crime TV Shows, International TV Shows, TV Act...   \n",
       "3                             Docuseries, Reality TV   \n",
       "4  International TV Shows, Romantic TV Shows, TV ...   \n",
       "\n",
       "                                         description  \n",
       "0  As her father nears the end of his life, filmm...  \n",
       "1  After crossing paths at a party, a Cape Town t...  \n",
       "2  To protect his family from a powerful drug lor...  \n",
       "3  Feuds, flirtations and toilet talk go down amo...  \n",
       "4  In a city of coaching centers known to train I...  "
      ]
     },
     "execution_count": 3,
     "metadata": {},
     "output_type": "execute_result"
    }
   ],
   "source": [
    "# load the data\n",
    "df = pd.read_csv('./netflix_titles.csv')\n",
    "\n",
    "# Show top 5 data\n",
    "df.head()"
   ]
  },
  {
   "cell_type": "markdown",
   "metadata": {},
   "source": [
    "As we see, there are NaN values there. So we will clean them soon."
   ]
  },
  {
   "cell_type": "code",
   "execution_count": 4,
   "metadata": {},
   "outputs": [
    {
     "name": "stdout",
     "output_type": "stream",
     "text": [
      "<class 'pandas.core.frame.DataFrame'>\n",
      "RangeIndex: 8807 entries, 0 to 8806\n",
      "Data columns (total 12 columns):\n",
      "show_id         8807 non-null object\n",
      "type            8807 non-null object\n",
      "title           8807 non-null object\n",
      "director        6173 non-null object\n",
      "cast            7982 non-null object\n",
      "country         7976 non-null object\n",
      "date_added      8797 non-null object\n",
      "release_year    8807 non-null int64\n",
      "rating          8803 non-null object\n",
      "duration        8804 non-null object\n",
      "listed_in       8807 non-null object\n",
      "description     8807 non-null object\n",
      "dtypes: int64(1), object(11)\n",
      "memory usage: 825.7+ KB\n"
     ]
    }
   ],
   "source": [
    "# List data information\n",
    "df.info()"
   ]
  },
  {
   "cell_type": "code",
   "execution_count": 5,
   "metadata": {},
   "outputs": [
    {
     "data": {
      "text/html": [
       "<div>\n",
       "<style scoped>\n",
       "    .dataframe tbody tr th:only-of-type {\n",
       "        vertical-align: middle;\n",
       "    }\n",
       "\n",
       "    .dataframe tbody tr th {\n",
       "        vertical-align: top;\n",
       "    }\n",
       "\n",
       "    .dataframe thead th {\n",
       "        text-align: right;\n",
       "    }\n",
       "</style>\n",
       "<table border=\"1\" class=\"dataframe\">\n",
       "  <thead>\n",
       "    <tr style=\"text-align: right;\">\n",
       "      <th></th>\n",
       "      <th>release_year</th>\n",
       "    </tr>\n",
       "  </thead>\n",
       "  <tbody>\n",
       "    <tr>\n",
       "      <th>count</th>\n",
       "      <td>8807.000000</td>\n",
       "    </tr>\n",
       "    <tr>\n",
       "      <th>mean</th>\n",
       "      <td>2014.180198</td>\n",
       "    </tr>\n",
       "    <tr>\n",
       "      <th>std</th>\n",
       "      <td>8.819312</td>\n",
       "    </tr>\n",
       "    <tr>\n",
       "      <th>min</th>\n",
       "      <td>1925.000000</td>\n",
       "    </tr>\n",
       "    <tr>\n",
       "      <th>25%</th>\n",
       "      <td>2013.000000</td>\n",
       "    </tr>\n",
       "    <tr>\n",
       "      <th>50%</th>\n",
       "      <td>2017.000000</td>\n",
       "    </tr>\n",
       "    <tr>\n",
       "      <th>75%</th>\n",
       "      <td>2019.000000</td>\n",
       "    </tr>\n",
       "    <tr>\n",
       "      <th>max</th>\n",
       "      <td>2021.000000</td>\n",
       "    </tr>\n",
       "  </tbody>\n",
       "</table>\n",
       "</div>"
      ],
      "text/plain": [
       "       release_year\n",
       "count   8807.000000\n",
       "mean    2014.180198\n",
       "std        8.819312\n",
       "min     1925.000000\n",
       "25%     2013.000000\n",
       "50%     2017.000000\n",
       "75%     2019.000000\n",
       "max     2021.000000"
      ]
     },
     "execution_count": 5,
     "metadata": {},
     "output_type": "execute_result"
    }
   ],
   "source": [
    "# Stats of data\n",
    "df.describe()"
   ]
  },
  {
   "cell_type": "code",
   "execution_count": 6,
   "metadata": {},
   "outputs": [
    {
     "data": {
      "text/plain": [
       "show_id         0.000000\n",
       "type            0.000000\n",
       "title           0.000000\n",
       "director        0.003396\n",
       "cast            0.001064\n",
       "country         0.001071\n",
       "date_added      0.000013\n",
       "release_year    0.000000\n",
       "rating          0.000005\n",
       "duration        0.000004\n",
       "listed_in       0.000000\n",
       "description     0.000000\n",
       "dtype: float64"
      ]
     },
     "execution_count": 6,
     "metadata": {},
     "output_type": "execute_result"
    }
   ],
   "source": [
    "# Mean of null values\n",
    "df.isnull().mean() / (len(df))*100"
   ]
  },
  {
   "cell_type": "code",
   "execution_count": 7,
   "metadata": {},
   "outputs": [
    {
     "data": {
      "text/plain": [
       "(8807, 12)"
      ]
     },
     "execution_count": 7,
     "metadata": {},
     "output_type": "execute_result"
    }
   ],
   "source": [
    "# Data size\n",
    "df.shape"
   ]
  },
  {
   "cell_type": "code",
   "execution_count": 8,
   "metadata": {},
   "outputs": [
    {
     "data": {
      "text/plain": [
       "show_id            0\n",
       "type               0\n",
       "title              0\n",
       "director        2634\n",
       "cast             825\n",
       "country          831\n",
       "date_added        10\n",
       "release_year       0\n",
       "rating             4\n",
       "duration           3\n",
       "listed_in          0\n",
       "description        0\n",
       "dtype: int64"
      ]
     },
     "execution_count": 8,
     "metadata": {},
     "output_type": "execute_result"
    }
   ],
   "source": [
    "# We would like to know null values for each column\n",
    "df.isnull().sum()"
   ]
  },
  {
   "cell_type": "code",
   "execution_count": 9,
   "metadata": {},
   "outputs": [
    {
     "data": {
      "text/plain": [
       "0"
      ]
     },
     "execution_count": 9,
     "metadata": {},
     "output_type": "execute_result"
    }
   ],
   "source": [
    "df.duplicated().sum()"
   ]
  },
  {
   "cell_type": "code",
   "execution_count": 13,
   "metadata": {},
   "outputs": [
    {
     "name": "stdout",
     "output_type": "stream",
     "text": [
      "Type:  ['Movie' 'TV Show']\n",
      "Release years:  [2020 2021 1993 2018 1996 1998 1997 2010 2013 2017 1975 1978 1983 1987 2012\n",
      " 2001 2014 2002 2003 2004 2011 2008 2009 2007 2005 2006 1994 2015 2019 2016\n",
      " 1982 1989 1990 1991 1999 1986 1992 1984 1980 1961 2000 1995 1985 1976 1959\n",
      " 1988 1981 1972 1964 1945 1954 1979 1958 1956 1963 1970 1973 1925 1974 1960\n",
      " 1966 1971 1962 1969 1977 1967 1968 1965 1946 1942 1955 1944 1947 1943]\n",
      "Rating:  ['PG-13' 'TV-MA' 'PG' 'TV-14' 'TV-PG' 'TV-Y' 'TV-Y7' 'R' 'TV-G' 'G' 'NC-17'\n",
      " '74 min' '84 min' '66 min' 'NR' nan 'TV-Y7-FV' 'UR']\n"
     ]
    }
   ],
   "source": [
    "print(\"Type: \", df[\"type\"].unique())\n",
    "print(\"Release years: \", df[\"release_year\"].unique())\n",
    "print(\"Rating: \", df[\"rating\"].unique())"
   ]
  },
  {
   "cell_type": "code",
   "execution_count": 14,
   "metadata": {},
   "outputs": [
    {
     "name": "stdout",
     "output_type": "stream",
     "text": [
      "Oldest year : 1925, Newest year: 2021\n"
     ]
    }
   ],
   "source": [
    "# Oldest and Newest released year for the dataset\n",
    "print(\"Oldest year : {}, Newest year: {}\".format(min(df[\"release_year\"]), max(df[\"release_year\"])))"
   ]
  },
  {
   "cell_type": "code",
   "execution_count": 15,
   "metadata": {},
   "outputs": [
    {
     "data": {
      "image/png": "[encoded data removed]",
      "text/plain": [
       "<matplotlib.figure.Figure at 0x7f0a58569c88>"
      ]
     },
     "metadata": {
      "needs_background": "light"
     },
     "output_type": "display_data"
    }
   ],
   "source": [
    "# histogram of release year\n",
    "plt.hist(df['release_year'], bins=20)\n",
    "plt.show()"
   ]
  },
  {
   "cell_type": "code",
   "execution_count": 16,
   "metadata": {},
   "outputs": [
    {
     "data": {
      "text/plain": [
       "<matplotlib.axes._subplots.AxesSubplot at 0x7f0a2e1a15c0>"
      ]
     },
     "execution_count": 16,
     "metadata": {},
     "output_type": "execute_result"
    },
    {
     "data": {
      "image/png": "[encoded data removed]",
      "text/plain": [
       "<matplotlib.figure.Figure at 0x7f0a2e1da668>"
      ]
     },
     "metadata": {},
     "output_type": "display_data"
    }
   ],
   "source": [
    "# Show the distribution of type\n",
    "plt.style.use('seaborn-whitegrid')\n",
    "sns.countplot(df[\"type\"])"
   ]
  },
  {
   "cell_type": "code",
   "execution_count": 17,
   "metadata": {},
   "outputs": [
    {
     "data": {
      "text/plain": [
       "<matplotlib.axes._subplots.AxesSubplot at 0x7f0a2e128b00>"
      ]
     },
     "execution_count": 17,
     "metadata": {},
     "output_type": "execute_result"
    },
    {
     "data": {
      "image/png": "[encoded data removed]",
      "text/plain": [
       "<matplotlib.figure.Figure at 0x7f0a2e4a9f28>"
      ]
     },
     "metadata": {},
     "output_type": "display_data"
    }
   ],
   "source": [
    "df[\"type\"].value_counts().plot(kind = \"pie\", autopct = \"%.2f\")"
   ]
  },
  {
   "cell_type": "code",
   "execution_count": 18,
   "metadata": {},
   "outputs": [],
   "source": [
    "# Remove Duplicate Movies\n",
    "df.drop_duplicates(['title','country','type','release_year'],inplace=True)\n"
   ]
  },
  {
   "cell_type": "markdown",
   "metadata": {},
   "source": [
    "## Explore data "
   ]
  },
  {
   "cell_type": "markdown",
   "metadata": {},
   "source": [
    "#### 1. What are the oldest movies/TV Shows on Netflix? (Given 5)"
   ]
  },
  {
   "cell_type": "code",
   "execution_count": 19,
   "metadata": {},
   "outputs": [
    {
     "data": {
      "image/png": "[encoded data removed]",
      "text/plain": [
       "<matplotlib.figure.Figure at 0x7f0a2e097208>"
      ]
     },
     "metadata": {},
     "output_type": "display_data"
    }
   ],
   "source": [
    "plt.figure(figsize = (25, 8))\n",
    "plt.style.use('seaborn-whitegrid')\n",
    "ax = sns.countplot(x = 'release_year', data = df, palette = \"Accent\")\n",
    "plt.xlabel('Year of Release')\n",
    "plt.ylabel('Count')\n",
    "plt.xticks(rotation = 45)\n",
    "for p in ax.patches:\n",
    "    ax.annotate(int(p.get_height()), (p.get_x()+0.25, p.get_height()+1), va = 'bottom', color = 'black')"
   ]
  },
  {
   "cell_type": "code",
   "execution_count": 16,
   "metadata": {},
   "outputs": [
    {
     "data": {
      "text/html": [
       "<div>\n",
       "<style scoped>\n",
       "    .dataframe tbody tr th:only-of-type {\n",
       "        vertical-align: middle;\n",
       "    }\n",
       "\n",
       "    .dataframe tbody tr th {\n",
       "        vertical-align: top;\n",
       "    }\n",
       "\n",
       "    .dataframe thead th {\n",
       "        text-align: right;\n",
       "    }\n",
       "</style>\n",
       "<table border=\"1\" class=\"dataframe\">\n",
       "  <thead>\n",
       "    <tr style=\"text-align: right;\">\n",
       "      <th></th>\n",
       "      <th>show_id</th>\n",
       "      <th>type</th>\n",
       "      <th>title</th>\n",
       "      <th>director</th>\n",
       "      <th>cast</th>\n",
       "      <th>country</th>\n",
       "      <th>date_added</th>\n",
       "      <th>release_year</th>\n",
       "      <th>rating</th>\n",
       "      <th>duration</th>\n",
       "      <th>listed_in</th>\n",
       "      <th>description</th>\n",
       "    </tr>\n",
       "  </thead>\n",
       "  <tbody>\n",
       "    <tr>\n",
       "      <th>4250</th>\n",
       "      <td>s4251</td>\n",
       "      <td>TV Show</td>\n",
       "      <td>Pioneers: First Women Filmmakers*</td>\n",
       "      <td>NaN</td>\n",
       "      <td>NaN</td>\n",
       "      <td>NaN</td>\n",
       "      <td>December 30, 2018</td>\n",
       "      <td>1925</td>\n",
       "      <td>TV-14</td>\n",
       "      <td>1 Season</td>\n",
       "      <td>TV Shows</td>\n",
       "      <td>This collection restores films from women who ...</td>\n",
       "    </tr>\n",
       "    <tr>\n",
       "      <th>7790</th>\n",
       "      <td>s7791</td>\n",
       "      <td>Movie</td>\n",
       "      <td>Prelude to War</td>\n",
       "      <td>Frank Capra</td>\n",
       "      <td>NaN</td>\n",
       "      <td>United States</td>\n",
       "      <td>March 31, 2017</td>\n",
       "      <td>1942</td>\n",
       "      <td>TV-14</td>\n",
       "      <td>52 min</td>\n",
       "      <td>Classic Movies, Documentaries</td>\n",
       "      <td>Frank Capra's documentary chronicles the rise ...</td>\n",
       "    </tr>\n",
       "    <tr>\n",
       "      <th>8205</th>\n",
       "      <td>s8206</td>\n",
       "      <td>Movie</td>\n",
       "      <td>The Battle of Midway</td>\n",
       "      <td>John Ford</td>\n",
       "      <td>Henry Fonda, Jane Darwell</td>\n",
       "      <td>United States</td>\n",
       "      <td>March 31, 2017</td>\n",
       "      <td>1942</td>\n",
       "      <td>TV-14</td>\n",
       "      <td>18 min</td>\n",
       "      <td>Classic Movies, Documentaries</td>\n",
       "      <td>Director John Ford captures combat footage of ...</td>\n",
       "    </tr>\n",
       "    <tr>\n",
       "      <th>8660</th>\n",
       "      <td>s8661</td>\n",
       "      <td>Movie</td>\n",
       "      <td>Undercover: How to Operate Behind Enemy Lines</td>\n",
       "      <td>John Ford</td>\n",
       "      <td>NaN</td>\n",
       "      <td>United States</td>\n",
       "      <td>March 31, 2017</td>\n",
       "      <td>1943</td>\n",
       "      <td>TV-PG</td>\n",
       "      <td>61 min</td>\n",
       "      <td>Classic Movies, Documentaries</td>\n",
       "      <td>This World War II-era training film dramatizes...</td>\n",
       "    </tr>\n",
       "    <tr>\n",
       "      <th>8739</th>\n",
       "      <td>s8740</td>\n",
       "      <td>Movie</td>\n",
       "      <td>Why We Fight: The Battle of Russia</td>\n",
       "      <td>Frank Capra, Anatole Litvak</td>\n",
       "      <td>NaN</td>\n",
       "      <td>United States</td>\n",
       "      <td>March 31, 2017</td>\n",
       "      <td>1943</td>\n",
       "      <td>TV-PG</td>\n",
       "      <td>82 min</td>\n",
       "      <td>Documentaries</td>\n",
       "      <td>This installment of Frank Capra's acclaimed do...</td>\n",
       "    </tr>\n",
       "  </tbody>\n",
       "</table>\n",
       "</div>"
      ],
      "text/plain": [
       "     show_id     type                                          title  \\\n",
       "4250   s4251  TV Show              Pioneers: First Women Filmmakers*   \n",
       "7790   s7791    Movie                                 Prelude to War   \n",
       "8205   s8206    Movie                           The Battle of Midway   \n",
       "8660   s8661    Movie  Undercover: How to Operate Behind Enemy Lines   \n",
       "8739   s8740    Movie             Why We Fight: The Battle of Russia   \n",
       "\n",
       "                         director                       cast        country  \\\n",
       "4250                          NaN                        NaN            NaN   \n",
       "7790                  Frank Capra                        NaN  United States   \n",
       "8205                    John Ford  Henry Fonda, Jane Darwell  United States   \n",
       "8660                    John Ford                        NaN  United States   \n",
       "8739  Frank Capra, Anatole Litvak                        NaN  United States   \n",
       "\n",
       "             date_added  release_year rating  duration  \\\n",
       "4250  December 30, 2018          1925  TV-14  1 Season   \n",
       "7790     March 31, 2017          1942  TV-14    52 min   \n",
       "8205     March 31, 2017          1942  TV-14    18 min   \n",
       "8660     March 31, 2017          1943  TV-PG    61 min   \n",
       "8739     March 31, 2017          1943  TV-PG    82 min   \n",
       "\n",
       "                          listed_in  \\\n",
       "4250                       TV Shows   \n",
       "7790  Classic Movies, Documentaries   \n",
       "8205  Classic Movies, Documentaries   \n",
       "8660  Classic Movies, Documentaries   \n",
       "8739                  Documentaries   \n",
       "\n",
       "                                            description  \n",
       "4250  This collection restores films from women who ...  \n",
       "7790  Frank Capra's documentary chronicles the rise ...  \n",
       "8205  Director John Ford captures combat footage of ...  \n",
       "8660  This World War II-era training film dramatizes...  \n",
       "8739  This installment of Frank Capra's acclaimed do...  "
      ]
     },
     "execution_count": 16,
     "metadata": {},
     "output_type": "execute_result"
    }
   ],
   "source": [
    "# Remove id column\n",
    "#df.drop(columns=['show_id','description'],inplace=True)\n",
    "df.sort_values(by=\"release_year\", ascending=True).head()"
   ]
  },
  {
   "cell_type": "markdown",
   "metadata": {},
   "source": [
    "#### 2. Top 10 countries where most of TV Shows/Movies produced?"
   ]
  },
  {
   "cell_type": "code",
   "execution_count": 21,
   "metadata": {},
   "outputs": [
    {
     "name": "stdout",
     "output_type": "stream",
     "text": [
      "Number of countries:  197\n"
     ]
    },
    {
     "data": {
      "text/plain": [
       "Text(0.5,0,'Count')"
      ]
     },
     "execution_count": 21,
     "metadata": {},
     "output_type": "execute_result"
    },
    {
     "data": {
      "image/png": "[encoded data removed]",
      "text/plain": [
       "<matplotlib.figure.Figure at 0x7f0a2dfc79e8>"
      ]
     },
     "metadata": {},
     "output_type": "display_data"
    }
   ],
   "source": [
    "country_count = df.copy()\n",
    "country_count = pd.concat([country_count, df[\"country\"].str.split(\",\", expand = True)], axis = 1)\n",
    "country_count = country_count.melt(id_vars = [\"type\", \"title\"], value_vars = range(12), value_name = \"country\")\n",
    "country_count = country_count[country_count[\"country\"].notna()]\n",
    "print(\"Number of countries: \", country_count[\"country\"].nunique())\n",
    "\n",
    "plt.figure(figsize = (15, 7))\n",
    "country = country_count[\"country\"].value_counts()[:10]\n",
    "sns.barplot(x = country, y = country.index, palette = \"Accent\")\n",
    "plt.xlabel(\"Count\")"
   ]
  },
  {
   "cell_type": "markdown",
   "metadata": {},
   "source": [
    "As we see, there are two United States. So we should consolidate them into one."
   ]
  },
  {
   "cell_type": "code",
   "execution_count": 22,
   "metadata": {},
   "outputs": [
    {
     "data": {
      "text/plain": [
       "Text(0.5,0,'Count')"
      ]
     },
     "execution_count": 22,
     "metadata": {},
     "output_type": "execute_result"
    },
    {
     "data": {
      "image/png": "[encoded data removed]",
      "text/plain": [
       "<matplotlib.figure.Figure at 0x7f0a2ddddeb8>"
      ]
     },
     "metadata": {},
     "output_type": "display_data"
    }
   ],
   "source": [
    "country_count[\"country\"] = country_count[\"country\"].str.strip()\n",
    "\n",
    "plt.figure(figsize = (15, 7))\n",
    "country = country_count[\"country\"].value_counts()[:10]\n",
    "sns.barplot(x = country, y = country.index, palette = \"Accent\")\n",
    "plt.xlabel(\"Count\")"
   ]
  },
  {
   "cell_type": "markdown",
   "metadata": {},
   "source": [
    "We can see that the largest number of Movies/TV Shows comes from United States. It has triple number of Movies/TV Shows than India has. Spain, South Korea and Germany have the same the number of Movies/TV Shows on Netflix. Actually fun!"
   ]
  },
  {
   "cell_type": "markdown",
   "metadata": {},
   "source": [
    "#### 3. How many movies that \"Cameron Diaz\" acted in?"
   ]
  },
  {
   "cell_type": "code",
   "execution_count": 23,
   "metadata": {},
   "outputs": [
    {
     "name": "stdout",
     "output_type": "stream",
     "text": [
      "Number of movied that Cameron Diaz acted in:  8\n"
     ]
    }
   ],
   "source": [
    "updated_df = df.dropna()\n",
    "print(\"Number of movied that Cameron Diaz acted in: \", len(updated_df[updated_df[\"cast\"].str.contains(\"Cameron Diaz\")]))"
   ]
  },
  {
   "cell_type": "code",
   "execution_count": 24,
   "metadata": {},
   "outputs": [
    {
     "data": {
      "text/html": [
       "<div>\n",
       "<style scoped>\n",
       "    .dataframe tbody tr th:only-of-type {\n",
       "        vertical-align: middle;\n",
       "    }\n",
       "\n",
       "    .dataframe tbody tr th {\n",
       "        vertical-align: top;\n",
       "    }\n",
       "\n",
       "    .dataframe thead th {\n",
       "        text-align: right;\n",
       "    }\n",
       "</style>\n",
       "<table border=\"1\" class=\"dataframe\">\n",
       "  <thead>\n",
       "    <tr style=\"text-align: right;\">\n",
       "      <th></th>\n",
       "      <th>show_id</th>\n",
       "      <th>type</th>\n",
       "      <th>title</th>\n",
       "      <th>director</th>\n",
       "      <th>cast</th>\n",
       "      <th>country</th>\n",
       "      <th>date_added</th>\n",
       "      <th>release_year</th>\n",
       "      <th>rating</th>\n",
       "      <th>duration</th>\n",
       "      <th>listed_in</th>\n",
       "      <th>description</th>\n",
       "    </tr>\n",
       "  </thead>\n",
       "  <tbody>\n",
       "    <tr>\n",
       "      <th>566</th>\n",
       "      <td>s567</td>\n",
       "      <td>Movie</td>\n",
       "      <td>Charlie's Angels</td>\n",
       "      <td>McG</td>\n",
       "      <td>Cameron Diaz, Drew Barrymore, Lucy Liu, Bill M...</td>\n",
       "      <td>United States, Germany</td>\n",
       "      <td>July 1, 2021</td>\n",
       "      <td>2000</td>\n",
       "      <td>PG-13</td>\n",
       "      <td>98 min</td>\n",
       "      <td>Action &amp; Adventure, Comedies</td>\n",
       "      <td>A tight-knit trio of specially trained agents ...</td>\n",
       "    </tr>\n",
       "    <tr>\n",
       "      <th>951</th>\n",
       "      <td>s952</td>\n",
       "      <td>Movie</td>\n",
       "      <td>The Sweetest Thing</td>\n",
       "      <td>Roger Kumble</td>\n",
       "      <td>Cameron Diaz, Christina Applegate, Selma Blair...</td>\n",
       "      <td>United States</td>\n",
       "      <td>May 1, 2021</td>\n",
       "      <td>2002</td>\n",
       "      <td>R</td>\n",
       "      <td>89 min</td>\n",
       "      <td>Comedies, Romantic Movies</td>\n",
       "      <td>After meeting her potential soul mate, a commi...</td>\n",
       "    </tr>\n",
       "    <tr>\n",
       "      <th>6447</th>\n",
       "      <td>s6448</td>\n",
       "      <td>Movie</td>\n",
       "      <td>Charlie's Angels: Full Throttle</td>\n",
       "      <td>McG</td>\n",
       "      <td>Cameron Diaz, Drew Barrymore, Lucy Liu, Bernie...</td>\n",
       "      <td>United States</td>\n",
       "      <td>October 1, 2019</td>\n",
       "      <td>2003</td>\n",
       "      <td>PG-13</td>\n",
       "      <td>106 min</td>\n",
       "      <td>Action &amp; Adventure, Comedies</td>\n",
       "      <td>In this reboot of the TV classic, the Angels a...</td>\n",
       "    </tr>\n",
       "    <tr>\n",
       "      <th>6743</th>\n",
       "      <td>s6744</td>\n",
       "      <td>Movie</td>\n",
       "      <td>Fear and Loathing in Las Vegas</td>\n",
       "      <td>Terry Gilliam</td>\n",
       "      <td>Johnny Depp, Benicio Del Toro, Tobey Maguire, ...</td>\n",
       "      <td>United States</td>\n",
       "      <td>November 1, 2019</td>\n",
       "      <td>1998</td>\n",
       "      <td>R</td>\n",
       "      <td>118 min</td>\n",
       "      <td>Comedies, Cult Movies, Dramas</td>\n",
       "      <td>A sportswriter and his Samoan lawyer embark on...</td>\n",
       "    </tr>\n",
       "    <tr>\n",
       "      <th>6826</th>\n",
       "      <td>s6827</td>\n",
       "      <td>Movie</td>\n",
       "      <td>Gangs of New York</td>\n",
       "      <td>Martin Scorsese</td>\n",
       "      <td>Leonardo DiCaprio, Daniel Day-Lewis, Cameron D...</td>\n",
       "      <td>United States, Italy</td>\n",
       "      <td>August 20, 2019</td>\n",
       "      <td>2002</td>\n",
       "      <td>R</td>\n",
       "      <td>167 min</td>\n",
       "      <td>Dramas</td>\n",
       "      <td>In the crime-ridden slums of New York in the 1...</td>\n",
       "    </tr>\n",
       "    <tr>\n",
       "      <th>7546</th>\n",
       "      <td>s7547</td>\n",
       "      <td>Movie</td>\n",
       "      <td>My Sister's Keeper</td>\n",
       "      <td>Nick Cassavetes</td>\n",
       "      <td>Cameron Diaz, Abigail Breslin, Alec Baldwin, J...</td>\n",
       "      <td>United States</td>\n",
       "      <td>September 1, 2019</td>\n",
       "      <td>2009</td>\n",
       "      <td>PG-13</td>\n",
       "      <td>109 min</td>\n",
       "      <td>Dramas</td>\n",
       "      <td>A former defense attorney finds herself back i...</td>\n",
       "    </tr>\n",
       "    <tr>\n",
       "      <th>8220</th>\n",
       "      <td>s8221</td>\n",
       "      <td>Movie</td>\n",
       "      <td>The Box</td>\n",
       "      <td>Richard Kelly</td>\n",
       "      <td>Cameron Diaz, James Marsden, Frank Langella, J...</td>\n",
       "      <td>United States</td>\n",
       "      <td>June 1, 2019</td>\n",
       "      <td>2009</td>\n",
       "      <td>PG-13</td>\n",
       "      <td>116 min</td>\n",
       "      <td>Sci-Fi &amp; Fantasy, Thrillers</td>\n",
       "      <td>A couple must decide whether to push a button ...</td>\n",
       "    </tr>\n",
       "    <tr>\n",
       "      <th>8335</th>\n",
       "      <td>s8336</td>\n",
       "      <td>Movie</td>\n",
       "      <td>The Green Hornet</td>\n",
       "      <td>Michel Gondry</td>\n",
       "      <td>Seth Rogen, Jay Chou, Cameron Diaz, Tom Wilkin...</td>\n",
       "      <td>United States</td>\n",
       "      <td>April 18, 2020</td>\n",
       "      <td>2011</td>\n",
       "      <td>PG-13</td>\n",
       "      <td>119 min</td>\n",
       "      <td>Action &amp; Adventure, Comedies</td>\n",
       "      <td>A hard-partying heir dons a disguise to fight ...</td>\n",
       "    </tr>\n",
       "  </tbody>\n",
       "</table>\n",
       "</div>"
      ],
      "text/plain": [
       "     show_id   type                            title         director  \\\n",
       "566     s567  Movie                 Charlie's Angels              McG   \n",
       "951     s952  Movie               The Sweetest Thing     Roger Kumble   \n",
       "6447   s6448  Movie  Charlie's Angels: Full Throttle              McG   \n",
       "6743   s6744  Movie   Fear and Loathing in Las Vegas    Terry Gilliam   \n",
       "6826   s6827  Movie                Gangs of New York  Martin Scorsese   \n",
       "7546   s7547  Movie               My Sister's Keeper  Nick Cassavetes   \n",
       "8220   s8221  Movie                          The Box    Richard Kelly   \n",
       "8335   s8336  Movie                 The Green Hornet    Michel Gondry   \n",
       "\n",
       "                                                   cast  \\\n",
       "566   Cameron Diaz, Drew Barrymore, Lucy Liu, Bill M...   \n",
       "951   Cameron Diaz, Christina Applegate, Selma Blair...   \n",
       "6447  Cameron Diaz, Drew Barrymore, Lucy Liu, Bernie...   \n",
       "6743  Johnny Depp, Benicio Del Toro, Tobey Maguire, ...   \n",
       "6826  Leonardo DiCaprio, Daniel Day-Lewis, Cameron D...   \n",
       "7546  Cameron Diaz, Abigail Breslin, Alec Baldwin, J...   \n",
       "8220  Cameron Diaz, James Marsden, Frank Langella, J...   \n",
       "8335  Seth Rogen, Jay Chou, Cameron Diaz, Tom Wilkin...   \n",
       "\n",
       "                     country         date_added  release_year rating duration  \\\n",
       "566   United States, Germany       July 1, 2021          2000  PG-13   98 min   \n",
       "951            United States        May 1, 2021          2002      R   89 min   \n",
       "6447           United States    October 1, 2019          2003  PG-13  106 min   \n",
       "6743           United States   November 1, 2019          1998      R  118 min   \n",
       "6826    United States, Italy    August 20, 2019          2002      R  167 min   \n",
       "7546           United States  September 1, 2019          2009  PG-13  109 min   \n",
       "8220           United States       June 1, 2019          2009  PG-13  116 min   \n",
       "8335           United States     April 18, 2020          2011  PG-13  119 min   \n",
       "\n",
       "                          listed_in  \\\n",
       "566    Action & Adventure, Comedies   \n",
       "951       Comedies, Romantic Movies   \n",
       "6447   Action & Adventure, Comedies   \n",
       "6743  Comedies, Cult Movies, Dramas   \n",
       "6826                         Dramas   \n",
       "7546                         Dramas   \n",
       "8220    Sci-Fi & Fantasy, Thrillers   \n",
       "8335   Action & Adventure, Comedies   \n",
       "\n",
       "                                            description  \n",
       "566   A tight-knit trio of specially trained agents ...  \n",
       "951   After meeting her potential soul mate, a commi...  \n",
       "6447  In this reboot of the TV classic, the Angels a...  \n",
       "6743  A sportswriter and his Samoan lawyer embark on...  \n",
       "6826  In the crime-ridden slums of New York in the 1...  \n",
       "7546  A former defense attorney finds herself back i...  \n",
       "8220  A couple must decide whether to push a button ...  \n",
       "8335  A hard-partying heir dons a disguise to fight ...  "
      ]
     },
     "execution_count": 24,
     "metadata": {},
     "output_type": "execute_result"
    }
   ],
   "source": [
    "updated_df[updated_df[\"cast\"].str.contains(\"Cameron Diaz\")]"
   ]
  },
  {
   "cell_type": "markdown",
   "metadata": {},
   "source": [
    "So actress Cameron Diaz acted in 8 movies on Netflix in total!"
   ]
  },
  {
   "cell_type": "markdown",
   "metadata": {},
   "source": [
    "#### 4. Tredning of content (Movies/TV Shows) produced from 2005 until 2021 on Netflix"
   ]
  },
  {
   "cell_type": "code",
   "execution_count": 25,
   "metadata": {},
   "outputs": [
    {
     "data": {
      "text/plain": [
       "<matplotlib.legend.Legend at 0x7f0a2dd69748>"
      ]
     },
     "execution_count": 25,
     "metadata": {},
     "output_type": "execute_result"
    },
    {
     "data": {
      "image/png": "[encoded data removed]",
      "text/plain": [
       "<matplotlib.figure.Figure at 0x7f0a2de69e48>"
      ]
     },
     "metadata": {},
     "output_type": "display_data"
    }
   ],
   "source": [
    "df1=df[['type','release_year']]\n",
    "df1=df1.rename(columns={\"release_year\": \"Release Year\"})\n",
    "df2=df1.groupby(['Release Year','type']).size().reset_index(name='Total Content')\n",
    "\n",
    "plt.title('Trend of content produced over the years on Netflix')\n",
    "plt.xlabel('Release Year')\n",
    "plt.ylabel('Total Content')\n",
    "\n",
    "df2=df2[df2['Release Year']>=2005]\n",
    "\n",
    "ax = plt.gca()\n",
    "\n",
    "x = df2[df2['type'] == 'Movie']\n",
    "x = x.drop(['type'], axis=1)\n",
    "x.plot(kind='line',x='Release Year', y='Total Content',ax=ax, legend=False)\n",
    "\n",
    "y = df2[df2['type'] == 'TV Show']\n",
    "y = y.drop(['type'], axis=1)\n",
    "y.plot(kind='line',x='Release Year', y='Total Content', color='red', ax=ax, legend=False)\n",
    "plt.ylim(0, 2050)\n",
    "\n",
    "plt.legend(['Movie', 'TV Show'])\n"
   ]
  },
  {
   "cell_type": "markdown",
   "metadata": {},
   "source": [
    "***In the histogram, we see that 2005 to 2018 the number of Movies is getting more and more than TV Shows on Netflix. After 2018 the number of Movies is down and in 2021 it seems they have the same number. Interesting!*** "
   ]
  },
  {
   "cell_type": "markdown",
   "metadata": {},
   "source": [
    "# Summary\n"
   ]
  },
  {
   "cell_type": "markdown",
   "metadata": {},
   "source": [
    "So far, we have been digged into the data to find out some information. Actually, there are a lot more information we can get from this cool data. We can have check top actors or how many genre are there in the data, what movies/tv shows has the maximum length of time etc... <br>\n",
    "I hope you feel it cool as I have :)<br> \n",
    "\n",
    "Hope to see you guy in the next article I will make to explore more information from this data as well using other data techniques such as recommendation very soon!"
   ]
  },
  {
   "cell_type": "code",
   "execution_count": null,
   "metadata": {},
   "outputs": [],
   "source": []
  }
 ],
 "metadata": {
  "kernelspec": {
   "display_name": "Python 3",
   "language": "python",
   "name": "python3"
  },
  "language_info": {
   "codemirror_mode": {
    "name": "ipython",
    "version": 3
   },
   "file_extension": ".py",
   "mimetype": "text/x-python",
   "name": "python",
   "nbconvert_exporter": "python",
   "pygments_lexer": "ipython3",
   "version": "3.6.3"
  }
 },
 "nbformat": 4,
 "nbformat_minor": 2
}
